{
 "cells": [
  {
   "cell_type": "code",
   "execution_count": 9,
   "id": "17425483",
   "metadata": {},
   "outputs": [],
   "source": [
    "import pandas as pd\n",
    "from sklearn.preprocessing import LabelEncoder\n",
    "from sklearn.model_selection import train_test_split\n",
    "from sklearn.linear_model import LogisticRegression\n",
    "from sklearn.metrics import accuracy_score\n",
    "import pickle\n",
    "\n",
    "# Load the dataset\n",
    "df = pd.read_csv('C:/Users/PRIYANSHU/Desktop/Python_Vsc/Loan Prediction/LoanApprovalPrediction.csv')\n",
    "\n",
    "# Drop Loan_ID column\n",
    "df.drop(['Loan_ID'], axis=1, inplace=True)\n",
    "\n",
    "# Convert categorical to int objects\n",
    "label_encoder = LabelEncoder()\n",
    "obj = (df.dtypes == 'object')\n",
    "# List of categorical objects\n",
    "for col in list(obj[obj].index):\n",
    "    df[col] = label_encoder.fit_transform(df[col])\n",
    "\n",
    "# Fill in the missing rows\n",
    "for i in df.columns:\n",
    "    df[i] = df[i].fillna(df[i].mean())\n",
    "\n",
    "# Divide the model into features and target variable\n",
    "X = df.drop(['Loan_Status'], axis=1)\n",
    "y = df['Loan_Status']\n",
    "\n",
    "# Split into training and testing data\n",
    "X_train, X_test, y_train, y_test = train_test_split(X, y, test_size=0.3, random_state=7)\n",
    "\n",
    "# Define the model\n",
    "model = LogisticRegression(max_iter=1000)\n",
    "\n",
    "\n",
    "# Fit the model on the training data\n",
    "model.fit(X_train, y_train)\n",
    "\n",
    "# Save the trained model\n",
    "with open('C:/Users/PRIYANSHU/Desktop/Python_Vsc/Loan Prediction/model/train_model.pkl', mode='wb') as pkl:\n",
    "    pickle.dump(model, pkl)\n",
    "\n",
    "\n"
   ]
  },
  {
   "cell_type": "code",
   "execution_count": null,
   "id": "2ec48271",
   "metadata": {},
   "outputs": [],
   "source": []
  }
 ],
 "metadata": {
  "kernelspec": {
   "display_name": "Python 3 (ipykernel)",
   "language": "python",
   "name": "python3"
  },
  "language_info": {
   "codemirror_mode": {
    "name": "ipython",
    "version": 3
   },
   "file_extension": ".py",
   "mimetype": "text/x-python",
   "name": "python",
   "nbconvert_exporter": "python",
   "pygments_lexer": "ipython3",
   "version": "3.11.4"
  }
 },
 "nbformat": 4,
 "nbformat_minor": 5
}
